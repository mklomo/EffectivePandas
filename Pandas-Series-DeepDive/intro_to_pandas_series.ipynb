{
 "cells": [
  {
   "cell_type": "markdown",
   "metadata": {},
   "source": [
    "# An introduction to Pandas Series\n",
    "\n",
    "A series models one-dimensional data. The series object has an index and a name. \n",
    "\n",
    "\n",
    "|Artist| Data |\n",
    "|------|------|\n",
    "|  0   |  145 |\n",
    "|  1   |  142 |\n",
    "|  2   |  38  |\n",
    "|  3   |  13  |\n",
    "\n",
    "\n"
   ]
  },
  {
   "cell_type": "code",
   "execution_count": 1,
   "metadata": {},
   "outputs": [
    {
     "data": {
      "text/plain": [
       "0     120\n",
       "1     142\n",
       "2      38\n",
       "3     130\n",
       "4     100\n",
       "5     120\n",
       "6     140\n",
       "7     120\n",
       "8     140\n",
       "9     120\n",
       "10    140\n",
       "11    120\n",
       "12    140\n",
       "13    120\n",
       "14    140\n",
       "Name: counts, dtype: int64"
      ]
     },
     "execution_count": 1,
     "metadata": {},
     "output_type": "execute_result"
    }
   ],
   "source": [
    "# Creating a Pandas Series\n",
    "\n",
    "import pandas as pd\n",
    "\n",
    "songs = pd.Series(\n",
    "    [120, 142, 38, 130, 100, 120, 140, 120, 140, 120, 140, 120, 140, 120, 140],\n",
    "    name = \"counts\"\n",
    ")\n",
    "\n",
    "songs"
   ]
  },
  {
   "cell_type": "markdown",
   "metadata": {},
   "source": [
    "The interpreter prints the series. Though it looks 2-dimensional, it is infact one-dimensional. The leftmost column is the `index`, and contains entries for the index.  The index is not part of the values. TH generic name of the index is axis, and the values of the index-0,1,2,3- are axis labels.\n",
    "\n",
    "The data  - 120, 142, 38,... - are called `values`. In this case, integers (dtype: int64 - 64-bit integer)"
   ]
  },
  {
   "cell_type": "code",
   "execution_count": 2,
   "metadata": {},
   "outputs": [
    {
     "data": {
      "text/plain": [
       "RangeIndex(start=0, stop=15, step=1)"
      ]
     },
     "execution_count": 2,
     "metadata": {},
     "output_type": "execute_result"
    }
   ],
   "source": [
    "#  Check the index - monotonically increasing integers\n",
    "songs.index"
   ]
  },
  {
   "cell_type": "markdown",
   "metadata": {},
   "source": [
    "## Working with NaN\n",
    "\n",
    "When Pandas determines that a series holds numeric values but can not find a number to represent an entry, it will use `NaN` - 'Not A Number'."
   ]
  },
  {
   "cell_type": "code",
   "execution_count": 3,
   "metadata": {},
   "outputs": [
    {
     "data": {
      "text/plain": [
       "Mon     2.0\n",
       "Tue     5.0\n",
       "Wed    10.0\n",
       "Thu     NaN\n",
       "Fri     8.0\n",
       "dtype: float64"
      ]
     },
     "execution_count": 3,
     "metadata": {},
     "output_type": "execute_result"
    }
   ],
   "source": [
    "import numpy as np\n",
    "\n",
    "nan_series = pd.Series([2, 5, 10, np.nan, 8], index=['Mon', 'Tue', 'Wed', 'Thu', 'Fri'])\n",
    "\n",
    "nan_series"
   ]
  },
  {
   "cell_type": "markdown",
   "metadata": {},
   "source": [
    "> One thing to note is that the type of this series is float64, not int64! The type is a float because float64 supports NaN, which int64 does not. When pandas sees numeric data as well as the\n",
    "np.nan, it coerced the numeric data to a float values."
   ]
  },
  {
   "cell_type": "markdown",
   "metadata": {},
   "source": [
    "Below is an example of how pandas ignores NaN. The method, which counts the number of\n",
    "\".count\" values in a series, disregards NaN. In this case the count of items in the series is 4, ignoring the value for \"Thu\"."
   ]
  },
  {
   "cell_type": "code",
   "execution_count": 4,
   "metadata": {},
   "outputs": [
    {
     "data": {
      "text/plain": [
       "4"
      ]
     },
     "execution_count": 4,
     "metadata": {},
     "output_type": "execute_result"
    }
   ],
   "source": [
    "# Pandas ignores NaN values in operations\n",
    "nan_series.count()"
   ]
  },
  {
   "cell_type": "code",
   "execution_count": 5,
   "metadata": {},
   "outputs": [
    {
     "data": {
      "text/plain": [
       "5"
      ]
     },
     "execution_count": 5,
     "metadata": {},
     "output_type": "execute_result"
    }
   ],
   "source": [
    "# To inspect the number of entries (including) missing values \n",
    "\n",
    "nan_series.size"
   ]
  },
  {
   "cell_type": "markdown",
   "metadata": {},
   "source": [
    "> If you load data from a CSV file, an empty value for an otherwise numeric column will become\n",
    "NaN. Later, methods such as .fillna and .dropna will explain how to deal with NaN."
   ]
  },
  {
   "cell_type": "markdown",
   "metadata": {},
   "source": [
    "## Similar to Numpy\n",
    "\n",
    "The pandas Series behaves similarly yo a Numpy array amd have methods in common."
   ]
  },
  {
   "cell_type": "code",
   "execution_count": 7,
   "metadata": {},
   "outputs": [
    {
     "name": "stdout",
     "output_type": "stream",
     "text": [
      "Index 1 of Numpy Series --> 5\n",
      "Mean of the Numpy Series --> 6.25\n",
      "\n",
      "Index 1 of Pandas Series --> 142\n",
      "Mean of the Pandas Series --> 122.0\n",
      "\n"
     ]
    }
   ],
   "source": [
    "numpy_ser = np.array([2, 5, 10, 8])\n",
    "\n",
    "print(f\"Index 1 of Numpy Series --> {numpy_ser[1]}\")\n",
    "print(f\"Mean of the Numpy Series --> {numpy_ser.mean()}\\n\")\n",
    "\n",
    "print(f\"Index 1 of Pandas Series --> {songs[1]}\")\n",
    "print(f\"Mean of the Pandas Series --> {songs.mean()}\\n\")"
   ]
  },
  {
   "cell_type": "markdown",
   "metadata": {},
   "source": [
    "> Pandas Series and Numpy arrays also support Boolean Filtering. A boolean array is a series with the same index as the series you are working with that has boolean values, and it can be used as a mask to filter out items. Normal Python lists do not support such fancy index operations, like sticking a list into an index operation."
   ]
  },
  {
   "cell_type": "code",
   "execution_count": 9,
   "metadata": {},
   "outputs": [
    {
     "data": {
      "text/plain": [
       "0     False\n",
       "1      True\n",
       "2     False\n",
       "3      True\n",
       "4     False\n",
       "5     False\n",
       "6      True\n",
       "7     False\n",
       "8      True\n",
       "9     False\n",
       "10     True\n",
       "11    False\n",
       "12     True\n",
       "13    False\n",
       "14     True\n",
       "Name: counts, dtype: bool"
      ]
     },
     "execution_count": 9,
     "metadata": {},
     "output_type": "execute_result"
    }
   ],
   "source": [
    "# Boolean Filtering\n",
    "mask = songs > songs.mean()\n",
    "\n",
    "mask"
   ]
  },
  {
   "cell_type": "markdown",
   "metadata": {},
   "source": [
    "> Now, the mask can be passed in an index operation. If the mask has a true value for a given index, the value is kept. Otherwise the value os dropped."
   ]
  },
  {
   "cell_type": "code",
   "execution_count": 10,
   "metadata": {},
   "outputs": [
    {
     "data": {
      "text/plain": [
       "1     142\n",
       "3     130\n",
       "6     140\n",
       "8     140\n",
       "10    140\n",
       "12    140\n",
       "14    140\n",
       "Name: counts, dtype: int64"
      ]
     },
     "execution_count": 10,
     "metadata": {},
     "output_type": "execute_result"
    }
   ],
   "source": [
    "# Return series with values > mean of songs\n",
    "songs[mask]"
   ]
  },
  {
   "cell_type": "markdown",
   "metadata": {},
   "source": [
    "NumPy also has filtering by boolean arrays, but lacks the .median method on an array. Instead,\n",
    "NumPy provides a median function in the NumPy namespace. The equivalent version in NumPy\n",
    "looks like this:"
   ]
  },
  {
   "cell_type": "code",
   "execution_count": 11,
   "metadata": {},
   "outputs": [
    {
     "data": {
      "text/plain": [
       "array([10,  8])"
      ]
     },
     "execution_count": 11,
     "metadata": {},
     "output_type": "execute_result"
    }
   ],
   "source": [
    "numpy_ser[numpy_ser > np.mean(numpy_ser)]"
   ]
  },
  {
   "cell_type": "markdown",
   "metadata": {},
   "source": [
    "## Working with Categorical Data\n",
    "\n",
    "When data is loaded as categorical, it means the data is limited to only a few values. Categorical data have the ff benefits:\n",
    "- Use less memory than strings\n",
    "- Improve performance\n",
    "- Can have ordering\n",
    "- Can perform operations on categories\n",
    "- Enforce membership on values\n",
    "\n",
    "Categorical data is NOT just limited to strings; numbers or datetime values can be converted into categorical data.\n",
    "To create a category, we pass dtype=\"category\" into the Series constructor. Alternatively, we can\n",
    "call the .astype(\"category\") method on a series:"
   ]
  },
  {
   "cell_type": "code",
   "execution_count": 13,
   "metadata": {},
   "outputs": [
    {
     "data": {
      "text/plain": [
       "0      m\n",
       "1      s\n",
       "2      m\n",
       "3      l\n",
       "4      s\n",
       "5      m\n",
       "6     xl\n",
       "7      s\n",
       "8      m\n",
       "9     xl\n",
       "10     s\n",
       "11     m\n",
       "12     l\n",
       "13     s\n",
       "dtype: category\n",
       "Categories (4, object): ['l', 'm', 's', 'xl']"
      ]
     },
     "execution_count": 13,
     "metadata": {},
     "output_type": "execute_result"
    }
   ],
   "source": [
    "sizes = pd.Series([\"m\", \"s\", \"m\", \"l\", \"s\", \"m\", \"xl\", \"s\", \"m\", \"xl\", \"s\", \"m\", \"l\", \"s\"], dtype=\"category\")\n",
    "\n",
    "sizes"
   ]
  },
  {
   "cell_type": "code",
   "execution_count": 14,
   "metadata": {},
   "outputs": [
    {
     "data": {
      "text/plain": [
       "False"
      ]
     },
     "execution_count": 14,
     "metadata": {},
     "output_type": "execute_result"
    }
   ],
   "source": [
    "sizes.cat.ordered"
   ]
  },
  {
   "cell_type": "markdown",
   "metadata": {},
   "source": [
    "To convert a non-categorical series to an ordered category, we can create a type with the\n",
    "CategoricalDtype constructor and the appropriate parameters. Then we pass this type into the\n",
    ".astype method:"
   ]
  },
  {
   "cell_type": "code",
   "execution_count": 16,
   "metadata": {},
   "outputs": [
    {
     "data": {
      "text/plain": [
       "0      m\n",
       "1      l\n",
       "2    NaN\n",
       "3      s\n",
       "4    NaN\n",
       "dtype: category\n",
       "Categories (3, object): ['s' < 'm' < 'l']"
      ]
     },
     "execution_count": 16,
     "metadata": {},
     "output_type": "execute_result"
    }
   ],
   "source": [
    "news_series = pd.Series(['m', 'l', 'xs', 's', 'xl'])\n",
    "\n",
    "# Convert the pandas series to a categorical data type\n",
    "size_type = pd.api.types.CategoricalDtype(categories=['s' ,'m', 'l'], ordered=True)\n",
    "\n",
    "sizes_2 = news_series.astype(size_type)\n",
    "\n",
    "# Preview the size data\n",
    "sizes_2"
   ]
  },
  {
   "cell_type": "markdown",
   "metadata": {},
   "source": [
    "In this case, we limited the categories to just 's', 'm', and 'l', but the data had values that were\n",
    "not in those categories. Converting the data to a category type replaces those extra values with NaN.\n",
    "If we have ordered categories, we can do comparisons on them:"
   ]
  },
  {
   "cell_type": "code",
   "execution_count": 17,
   "metadata": {},
   "outputs": [
    {
     "data": {
      "text/plain": [
       "0     True\n",
       "1     True\n",
       "2    False\n",
       "3    False\n",
       "4    False\n",
       "dtype: bool"
      ]
     },
     "execution_count": 17,
     "metadata": {},
     "output_type": "execute_result"
    }
   ],
   "source": [
    "# Performing Comparisms with Ordinal Data\n",
    "sizes_2 > \"s\""
   ]
  },
  {
   "cell_type": "markdown",
   "metadata": {},
   "source": [
    "The prior example created a new Series from existing data that was not categorical. We can also\n",
    "add ordering information to categorical data. We just need to make sure that we specify all of the\n",
    "members of the category or pandas will throw a ValueError:"
   ]
  },
  {
   "cell_type": "code",
   "execution_count": 19,
   "metadata": {},
   "outputs": [
    {
     "data": {
      "text/plain": [
       "0      m\n",
       "1      s\n",
       "2      m\n",
       "3      l\n",
       "4      s\n",
       "5      m\n",
       "6     xl\n",
       "7      s\n",
       "8      m\n",
       "9     xl\n",
       "10     s\n",
       "11     m\n",
       "12     l\n",
       "13     s\n",
       "dtype: category\n",
       "Categories (4, object): ['s' < 'm' < 'l' < 'xl']"
      ]
     },
     "execution_count": 19,
     "metadata": {},
     "output_type": "execute_result"
    }
   ],
   "source": [
    "sizes.cat.reorder_categories([\"s\", \"m\", \"l\", \"xl\"], ordered=True)"
   ]
  }
 ],
 "metadata": {
  "kernelspec": {
   "display_name": "Python 3.8.0 64-bit (system)",
   "language": "python",
   "name": "python3"
  },
  "language_info": {
   "codemirror_mode": {
    "name": "ipython",
    "version": 3
   },
   "file_extension": ".py",
   "mimetype": "text/x-python",
   "name": "python",
   "nbconvert_exporter": "python",
   "pygments_lexer": "ipython3",
   "version": "3.8.0"
  },
  "orig_nbformat": 4,
  "vscode": {
   "interpreter": {
    "hash": "985dadb451a3879b46f97190c5b4bf917a8e90272eb49e4d6fad804dd6a2b5b2"
   }
  }
 },
 "nbformat": 4,
 "nbformat_minor": 2
}
